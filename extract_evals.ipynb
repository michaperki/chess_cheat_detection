{
 "cells": [
  {
   "cell_type": "code",
   "execution_count": 9,
   "id": "ef4a5404",
   "metadata": {},
   "outputs": [
    {
     "name": "stdout",
     "output_type": "stream",
     "text": [
      "Games exported: 5000\n",
      "Games skipped: 88073\n"
     ]
    }
   ],
   "source": [
    "import chess.pgn\n",
    "\n",
    "def filter_games(pgn_file, contains_eval=False, max_rating_diff=None, game_count=None):\n",
    "    games_exported = 0\n",
    "    games_skipped = 0\n",
    "\n",
    "    with open(pgn_file) as f_in, open(\"filtered_games.pgn\", \"w\") as f_out:\n",
    "        while True:\n",
    "            # Read the next chunk of games from the PGN file\n",
    "            games_chunk = []\n",
    "            for _ in range(1000):  # Adjust chunk size as needed\n",
    "                game = chess.pgn.read_game(f_in)\n",
    "                if game is None:\n",
    "                    break\n",
    "                games_chunk.append(game)\n",
    "\n",
    "            if not games_chunk:\n",
    "                break\n",
    "\n",
    "            # Process each game in the chunk\n",
    "            for game in games_chunk:\n",
    "                # Check if the game contains evaluation data\n",
    "                if contains_eval and not contains_evaluation(game):\n",
    "                    games_skipped += 1\n",
    "                    continue\n",
    "                \n",
    "                # Check if the rating difference is within the specified limit\n",
    "                if max_rating_diff is not None:\n",
    "                    white_rating = int(game.headers.get('WhiteElo', 0))\n",
    "                    black_rating = int(game.headers.get('BlackElo', 0))\n",
    "                    rating_diff = abs(white_rating - black_rating)\n",
    "                    if rating_diff > max_rating_diff:\n",
    "                        games_skipped += 1\n",
    "                        continue\n",
    "\n",
    "                # Write the game to the output file\n",
    "                f_out.write(str(game) + \"\\n\")\n",
    "                games_exported += 1\n",
    "\n",
    "                # Check if the maximum game count has been reached\n",
    "                if game_count is not None and games_exported >= game_count:\n",
    "                    break\n",
    "\n",
    "            # Check if the maximum game count has been reached\n",
    "            if game_count is not None and games_exported >= game_count:\n",
    "                break\n",
    "\n",
    "    print(f\"Games exported: {games_exported}\")\n",
    "    print(f\"Games skipped: {games_skipped}\")\n",
    "\n",
    "def contains_evaluation(game):\n",
    "    # Iterate through moves and check if any move contains evaluation data\n",
    "    for node in game.mainline():\n",
    "        if \"[%eval\" in node.comment:\n",
    "            return True\n",
    "    return False\n",
    "\n",
    "\n",
    "# Example usage\n",
    "pgn_file_path = \"lichess_db_standard_rated_2020-01.pgn\"  # Replace with the path to your PGN file\n",
    "filter_games(pgn_file_path, contains_eval=True, max_rating_diff=2000, game_count=5000)\n"
   ]
  },
  {
   "cell_type": "code",
   "execution_count": null,
   "id": "c4529af7",
   "metadata": {},
   "outputs": [],
   "source": []
  },
  {
   "cell_type": "code",
   "execution_count": null,
   "id": "7009612e",
   "metadata": {},
   "outputs": [],
   "source": []
  }
 ],
 "metadata": {
  "kernelspec": {
   "display_name": "Python 3 (ipykernel)",
   "language": "python",
   "name": "python3"
  },
  "language_info": {
   "codemirror_mode": {
    "name": "ipython",
    "version": 3
   },
   "file_extension": ".py",
   "mimetype": "text/x-python",
   "name": "python",
   "nbconvert_exporter": "python",
   "pygments_lexer": "ipython3",
   "version": "3.11.5"
  }
 },
 "nbformat": 4,
 "nbformat_minor": 5
}
